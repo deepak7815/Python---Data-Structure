{
 "cells": [
  {
   "cell_type": "markdown",
   "id": "0fc4cf0f-be16-4b7b-8bd9-10dff18eaf20",
   "metadata": {},
   "source": [
    "#Theory\n",
    "\n"
   ]
  },
  {
   "cell_type": "markdown",
   "id": "25f9f5d9-e522-4d6c-8b80-7f4c298458dd",
   "metadata": {},
   "source": [
    "1.What are data structures, and why are they important ?\n",
    "  \n",
    "-  Data structures are specialized formats for organizing, storing, and accessing collections of data. They provide efficient ways to manage information based on its characteristics and intended use.\n",
    "Think of them as containers that hold your data and determine how you can interact with it. Different containers are better suited for different types of items.\n",
    "\n",
    "Why are they important? :\n",
    "\n",
    " - Choosing the right data structure significantly impacts the efficiency and performance of your program.\n",
    " - Well-chosen data structures can:\n",
    " - Simplify data manipulation (adding, removing, modifying elements)\n",
    " - Optimize searching and sorting operations\n",
    " - Conserve memory usage"
   ]
  },
  {
   "cell_type": "markdown",
   "id": "087bb473-934c-4d85-9ccb-d5e558922bfa",
   "metadata": {},
   "source": [
    "2.  Explain the difference between mutable and immutable data types with examples ?\n",
    "\n",
    " - A mutable object can be modified in-place after it has been created. This means you can add, remove, or change elements within the object without creating a new object.\n",
    " - Python's built-in mutable data types include: Lists, Dictionaries, Sets\n",
    "\n",
    " - An immutable object cannot be modified after it is created. Any operation that seems to change the object, such as concatenation, actually creates a new object in memory and assigns the new value to the variable. Think of it like a photograph—you can't change the original picture; you can only make a new one.\n",
    " - Python's immutable data types include: Strings, Tuples, Numbers\n",
    "\n",
    "\n"
   ]
  },
  {
   "cell_type": "markdown",
   "id": "6561dbe4-a262-4aed-b739-82a35b880681",
   "metadata": {},
   "source": [
    "3. What are the main differences between lists and tuples in Python ?\n",
    "\n",
    " - Lists are mutable, meaning you can change, add, or remove elements after the list has been created. . This makes lists ideal for storing collections of data that need to be modified.\n",
    "\n",
    " - Tuples are immutable, which means once you've created a tuple, you can't change its contents. If you need a modified version, you have to create a new tuple. This immutability makes tuples useful for data that shouldn't change, like coordinates or database records.\n",
    "\n",
    " - Lists are typically used for ordered collections of items that will be changed, like a shopping cart or a queue.\n",
    "\n",
    " - Tuples are often used for heterogeneous data that is fixed, such as a function returning multiple values or a key in a dictionary"
   ]
  },
  {
   "cell_type": "markdown",
   "id": "14aa54be-ba5d-49c9-9057-2030ec1e63f0",
   "metadata": {},
   "source": [
    "4.  Describe how dictionaries store data ?\n",
    "\n",
    " - Unordered collections: Elements are not stored in a specific order.\n",
    " - Unique key-value pairs: Each key acts as a unique identifier for retrieving an associated value.\n",
    " - Flexible data: Keys and values can be of various data types (strings, numbers, lists, and even other dictionaries)."
   ]
  },
  {
   "cell_type": "markdown",
   "id": "27432859-045c-42b5-8790-2a8b36c03fb1",
   "metadata": {},
   "source": [
    "5. Why might you use a set instead of a list in Python ?\n",
    "\n",
    " - You might use a set instead of a list in Python for three main reasons: to store only unique elements, for fast membership testing, and for performing mathematical set operations."
   ]
  },
  {
   "cell_type": "markdown",
   "id": "68b15696-1758-421b-95cd-5526657f2891",
   "metadata": {},
   "source": [
    "6. What is a string in Python, and how is it different from a list ?\n",
    "\n",
    " - A string in Python is a sequence of characters, used for representing text. A list is a collection of items of any data type, and unlike a string, it is mutable.\n",
    "\n",
    " - Mutability\n",
    "This is the most important distinction. Strings are immutable, which means you can't change individual characters or elements of an existing string. Any operation that appears to modify a string, like my_string.upper()\n",
    "\n",
    "- Data Type\n",
    "Strings are a specialized data type for storing textual data. A list is a generic container that can hold elements of any data type, including numbers, strings, other lists, and more\n",
    "\n",
    " - Syntax and Operations\n",
    "Strings are defined using single or double quotes ('' or \"\"). Common string operations include slicing, concatenation, and various built-in methods like .strip() and .split(). Lists are defined with square brackets []. Their operations include append(), pop(), sort(), and insert(), which modify the list in place."
   ]
  },
  {
   "cell_type": "markdown",
   "id": "ed4ce12a-c0d2-4b6f-8bee-7e4223d120f6",
   "metadata": {},
   "source": [
    "7. How do tuples ensure data integrity in Python ?\n",
    "\n",
    " - Tuples ensure data integrity in Python primarily because they are immutable. This means once a tuple is created, its elements cannot be changed, added, or removed.\n",
    "\n",
    " - Immutability and Data Integrity\n",
    "The immutability of tuples guarantees that the data they contain remains constant throughout the program's execution. This is crucial for data integrity because it prevents accidental or unwanted changes to the data.\n",
    "\n",
    " - Tuples are best used for data that is meant to be constant. Good examples include:\n",
    "\n",
    "   Coordinates: (x, y) coordinates of a point. A point's location shouldn't change unless a new point is defined.\n",
    "\n",
    "   Database Records: A single row of a database table can be represented as a tuple, ensuring the data for that record isn't altered"
   ]
  },
  {
   "cell_type": "markdown",
   "id": "9a4c886b-53c3-4294-9098-e9c521a6de53",
   "metadata": {},
   "source": [
    "9. Can lists contain different data types in Python ?\n",
    "\n",
    " - Yes, lists can contain different data types in Python. This is because lists are designed to be a flexible, general-purpose container.\n",
    "\n",
    "\n",
    "Heterogeneous Data\n",
    "Lists in Python are not limited to a single data type. They can hold a mix of integers, floats, strings, booleans, and even other lists, dictionaries, or tuples. This makes them incredibly versatile for various programming tasks."
   ]
  },
  {
   "cell_type": "markdown",
   "id": "b5c6c663-32f7-4de3-b141-8e7c40917555",
   "metadata": {},
   "source": [
    "10. Explain why strings are immutable in Python ?\n",
    "\n",
    " - Strings are immutable in Python primarily to ensure their reliability and efficiency for various operations, particularly for use as dictionary keys and in memory management.\n",
    " - Reliability and Security\n",
    "Because strings are immutable, their value cannot be changed after creation. This prevents accidental or malicious modification of string data\n",
    " - Memory Efficiency\n",
    "Python can optimize memory usage by allowing multiple variables to point to the same string object if they have the same value. For example, if you create a = \"hello\" and then b = \"hello\", Python's interpreter may point both variables to the same object in memory. This process, called string interning, is only possible because strings are immutable\n",
    " - Hashing\n",
    "Immutability is a prerequisite for a data type to be \"hashable.\" A hashable object has a hash value that never changes during its lifetime. Since dictionaries use a hash table for fast lookups, their keys must be hashable."
   ]
  },
  {
   "cell_type": "markdown",
   "id": "c83ac072-9aee-485b-a352-7ed0ab812917",
   "metadata": {},
   "source": [
    "11. What advantages do dictionaries offer over lists for certain tasks ?\n",
    "\n",
    " - Dictionaries offer significant advantages over lists for certain tasks, primarily due to their speed of data retrieval, their ability to store data as key-value pairs, and their flexibility in representing structured data.\n",
    " - Fast Lookups\n",
    "The most notable advantage of a dictionary is its superior performance for searching and retrieving data.  Dictionaries use a hash table internally, which allows for near-instant lookups (on average) regardless of the dictionary's size. You can directly access a value by its unique key, making it much faster than searching through a list.\n",
    " - Key-Value Pairs\n",
    "Unlike lists, which use numerical indices to access elements, dictionaries use descriptive keys. These keys can be strings, numbers, or tuples. This allows you to create more meaningful relationships between data."
   ]
  },
  {
   "cell_type": "markdown",
   "id": "de2a5ca9-5c2e-4dab-bcf6-9eb813e25e9e",
   "metadata": {},
   "source": [
    "12.  Describe a scenario where using a tuple would be preferable over a list ?\n",
    "\n",
    " - You would prefer using a tuple over a list in a scenario where you have a collection of related items that should not be changed. This ensures data integrity and makes your code safer and more predictable.\n",
    " - Why a tuple is better:\n",
    "\n",
    "Immutability:\n",
    " - A tuple guarantees that the coordinates will not be accidentally changed. For instance, a function that takes (latitude, longitude) as input cannot alter the original tuple, preventing bugs where a location's data is corrupted. This makes the code more robust.\n",
    "\n",
    "Security: \n",
    " - If you were to use a mutable list, another part of your code could mistakenly change one of the values"
   ]
  },
  {
   "cell_type": "markdown",
   "id": "8c5caadb-84e4-4850-959b-78d9e8adf670",
   "metadata": {},
   "source": [
    "15. Can you modify the elements of a tuple? Explain why or why not ?\n",
    "\n",
    " - No, you can't modify the elements of a tuple. Tuples are immutable, which means their content cannot be changed, added to, or removed after creation.\n",
    "\n",
    "Why Tuples are Immutable :\n",
    " - The immutability of tuples is a core design choice in Python for a few key reasons:\n",
    "\n",
    "Data Integrity: \n",
    " - Immutability ensures that the data within a tuple remains constant. This is crucial for situations where you need to guarantee that data won't be accidentally altered, such as when storing coordinates, database records, or configuration settings.\n",
    "\n",
    "Performance:\n",
    " - Python can optimize tuples more aggressively than lists because it doesn't have to account for changes. This can make them slightly faster to create and iterate over.\n",
    "\n",
    "Hashability:\n",
    " - Because a tuple's contents are fixed, it can be hashed. This means you can use a tuple as a key in a dictionary or as an element in a set, which is not possible with mutable data types like lists."
   ]
  },
  {
   "cell_type": "markdown",
   "id": "b0614f3a-f1af-48e3-b92b-1358cb95664e",
   "metadata": {},
   "source": [
    "16. What is a nested dictionary, and give an example of its use case ?\n",
    "\n",
    " - A nested dictionary is a dictionary that contains other dictionaries as its values. This allows you to create a hierarchical or multi-level data structure.\n",
    "\n",
    "Use Case :\n",
    " - A common use case for a nested dictionary is to represent complex, structured data like a database of users or a JSON object. Each outer key can represent a unique item, and its corresponding value (the inner dictionary) can hold various attributes for that item."
   ]
  },
  {
   "cell_type": "markdown",
   "id": "878c9225-f9cd-42f7-a874-bd4d38b35413",
   "metadata": {},
   "source": [
    "17.  Describe the time complexity of accessing elements in a dictionary\n",
    "\n",
    " - Accessing elements in a dictionary has an average time complexity of O(1), or constant time. This means the time it takes to retrieve a value is independent of the number of items in the dictionary.\n",
    "\n",
    "How It Achieves O(1)\n",
    "\n",
    "This high level of performance is due to the dictionary's underlying implementation as a hash table. When you look up a value using its key, Python does the following:\n",
    "\n",
    " - It uses a hash function to convert the key into a unique integer hash value.\n",
    "\n",
    " - It uses this hash value to calculate a direct index in an internal array (the hash table).\n",
    "\n",
    " - It retrieves the value stored at that index."
   ]
  },
  {
   "cell_type": "markdown",
   "id": "ad4ae542-0a1f-44d9-9105-2a3040280bec",
   "metadata": {},
   "source": [
    "18. In what situations are lists preferred over dictionaries ?\n",
    "\n",
    " - Lists are preferred over dictionaries when you need an ordered collection of items that you can access by a numerical index, or when you simply need a sequential list of data without unique keys.\n",
    "\n",
    "   Key Scenarios for Using Lists :\n",
    "\n",
    " - Maintaining Order\n",
    "If the order of elements is important, a list is the clear choice. Lists maintain the insertion order of their elements\n",
    "\n",
    " - Sequential Data\n",
    "When you need to store a simple sequence of data and access it by a numerical index, lists are the most efficient and natural fit.\n",
    "\n",
    " - Handling Duplicates\n",
    "Lists are the only choice if you need to store duplicate values. Dictionaries require unique keys, so they cannot store duplicate key-value pairs. If your data contains repeated items that are meaningful, a list is the appropriate data structure.\n",
    "\n",
    " - Simple Data\n",
    "For small, simple collections that don't require complex relationships or fast lookups by name, lists are often simpler to implement and read. They are the go-to structure for basic data aggregation."
   ]
  },
  {
   "cell_type": "markdown",
   "id": "1dffc61b-8e02-40d4-881f-afb07b4c1512",
   "metadata": {},
   "source": [
    "20.  Explain the difference between a list and a dictionary in terms of data retrieval.\n",
    "\n",
    " - The key difference between a list and a dictionary in terms of data retrieval is how you access the data. Lists retrieve data by numerical index, while dictionaries retrieve data by a unique key.\n",
    "\n",
    " - Lists: Retrieval by Index\n",
    "Lists are ordered collections, so you access elements by their position or index, which starts at 0.  For example, to get the first item in a list called my_list, you use my_list[0].\n",
    "\n",
    "Speed: For a list, Python has to search through the elements sequentially. This means that for a list of n items, retrieving an item takes, on average, O(n) time. The larger the list, the longer the retrieval takes.\n",
    "\n",
    " - Dictionaries: Retrieval by Key\n",
    "Dictionaries are unordered collections that store data as key-value pairs. You retrieve data by providing the unique key associated with the value you want.  For example, to get the value for the key 'name' in a dictionary called person, you use person['name'].\n",
    "\n",
    "Speed: Dictionaries use a hash table internally. This allows Python to calculate a direct memory address for the value using the key, resulting in a retrieval time of O(1) on average. The time it takes to retrieve a value is constant, regardless of the size of the dictionary."
   ]
  },
  {
   "cell_type": "code",
   "execution_count": null,
   "id": "c8991edb-94f1-4577-8ccd-7bc3fb53346e",
   "metadata": {},
   "outputs": [],
   "source": []
  },
  {
   "cell_type": "code",
   "execution_count": null,
   "id": "37442978-849f-41b7-938e-26689c94f635",
   "metadata": {},
   "outputs": [],
   "source": []
  },
  {
   "cell_type": "code",
   "execution_count": null,
   "id": "6e04cb9c-6557-4279-89b2-aaa9510a1c24",
   "metadata": {},
   "outputs": [],
   "source": [
    "Practical Questions\n",
    "\n",
    "\n",
    "\n"
   ]
  },
  {
   "cell_type": "code",
   "execution_count": 2,
   "id": "18ed5a49-f4c1-499d-91ee-243d691dfeb7",
   "metadata": {},
   "outputs": [
    {
     "name": "stdout",
     "output_type": "stream",
     "text": [
      "My name is: Deepak Kumar\n"
     ]
    }
   ],
   "source": [
    "1. #Write a code to create a string with your name and print it.\n",
    "\n",
    "\n",
    "# Program to create a string with your name and print it\n",
    "\n",
    "my_name = \"Deepak Kumar\"   # Replace with your own name\n",
    "print(\"My name is:\", my_name)\n"
   ]
  },
  {
   "cell_type": "code",
   "execution_count": 3,
   "id": "b5889da4-6a19-424a-a837-9c12ab9b69a3",
   "metadata": {},
   "outputs": [
    {
     "name": "stdout",
     "output_type": "stream",
     "text": [
      "Length of the string is: 11\n"
     ]
    }
   ],
   "source": [
    "2. #Write a code to find the length of the string \"Hello World\".\n",
    "\n",
    "text = \"Hello World\"\n",
    "print(\"Length of the string is:\", len(text))\n"
   ]
  },
  {
   "cell_type": "code",
   "execution_count": 4,
   "id": "35480c2b-8ee3-4a18-8905-610e4d94c930",
   "metadata": {},
   "outputs": [
    {
     "name": "stdout",
     "output_type": "stream",
     "text": [
      "First 3 characters: Pyt\n"
     ]
    }
   ],
   "source": [
    "3. #Write a code to slice the first 3 characters from the string \"Python Programming\".\n",
    "\n",
    "\n",
    "text = \"Python Programming\"\n",
    "sliced_text = text[:3]   # slicing first 3 characters\n",
    "print(\"First 3 characters:\", sliced_text)\n"
   ]
  },
  {
   "cell_type": "code",
   "execution_count": 5,
   "id": "737baa36-458f-4077-87f0-de77a6786a53",
   "metadata": {},
   "outputs": [
    {
     "name": "stdout",
     "output_type": "stream",
     "text": [
      "Uppercase string: HELLO\n"
     ]
    }
   ],
   "source": [
    "4. #Write a code to convert the string \"hello\" to uppercase.\n",
    "\n",
    "text = \"hello\"\n",
    "upper_text = text.upper()\n",
    "print(\"Uppercase string:\", upper_text)\n"
   ]
  },
  {
   "cell_type": "code",
   "execution_count": 6,
   "id": "35f66039-f17d-4ae1-b2df-815bfd6a3e55",
   "metadata": {},
   "outputs": [
    {
     "name": "stdout",
     "output_type": "stream",
     "text": [
      "Modified string: I like orange\n"
     ]
    }
   ],
   "source": [
    "5. #Write a code to replace the word \"apple\" with \"orange\" in the string \"I like apple\".\n",
    "\n",
    "text = \"I like apple\"\n",
    "new_text = text.replace(\"apple\", \"orange\")\n",
    "print(\"Modified string:\", new_text)\n"
   ]
  },
  {
   "cell_type": "code",
   "execution_count": 7,
   "id": "ee9845ef-2120-49c0-bbdb-a9e65b95be4d",
   "metadata": {},
   "outputs": [
    {
     "name": "stdout",
     "output_type": "stream",
     "text": [
      "List of numbers: [1, 2, 3, 4, 5]\n"
     ]
    }
   ],
   "source": [
    "6. #Write a code to create a list with numbers 1 to 5 and print it.\n",
    "\n",
    "numbers = [1, 2, 3, 4, 5]\n",
    "print(\"List of numbers:\", numbers)"
   ]
  },
  {
   "cell_type": "code",
   "execution_count": 8,
   "id": "2d2fef61-ac2a-4982-aa40-c2b06eedc4b7",
   "metadata": {},
   "outputs": [
    {
     "name": "stdout",
     "output_type": "stream",
     "text": [
      "Updated list: [1, 2, 3, 4, 10]\n"
     ]
    }
   ],
   "source": [
    "7. # Write a code to append the number 10 to the list [1, 2, 3, 4].\n",
    "\n",
    "numbers = [1, 2, 3, 4]\n",
    "numbers.append(10)\n",
    "print(\"Updated list:\", numbers)"
   ]
  },
  {
   "cell_type": "code",
   "execution_count": 9,
   "id": "317b240f-f4f7-4943-9426-c0505ef3256a",
   "metadata": {},
   "outputs": [
    {
     "name": "stdout",
     "output_type": "stream",
     "text": [
      "Updated list: [1, 2, 4, 5]\n"
     ]
    }
   ],
   "source": [
    "8. #Write a code to remove the number 3 from the list [1, 2, 3, 4, 5].\n",
    "\n",
    "numbers = [1, 2, 3, 4, 5]\n",
    "numbers.remove(3)\n",
    "print(\"Updated list:\", numbers)"
   ]
  },
  {
   "cell_type": "code",
   "execution_count": 10,
   "id": "0163e516-efdd-4652-8868-6415dfda7483",
   "metadata": {},
   "outputs": [
    {
     "name": "stdout",
     "output_type": "stream",
     "text": [
      "The second element is: b\n"
     ]
    }
   ],
   "source": [
    "9.  #Write a code to access the second element in the list ['a', 'b', 'c', 'd'].\n",
    "\n",
    "letters = ['a', 'b', 'c', 'd']\n",
    "second_element = letters[1]   # Indexing starts from 0\n",
    "print(\"The second element is:\", second_element)"
   ]
  },
  {
   "cell_type": "code",
   "execution_count": 11,
   "id": "b83794ba-cda0-403d-afe6-4e5134a467e4",
   "metadata": {},
   "outputs": [
    {
     "name": "stdout",
     "output_type": "stream",
     "text": [
      "Reversed list: [50, 40, 30, 20, 10]\n"
     ]
    }
   ],
   "source": [
    "10. #Write a code to reverse the list [10, 20, 30, 40, 50].\n",
    "\n",
    "numbers = [10, 20, 30, 40, 50]\n",
    "numbers.reverse()\n",
    "print(\"Reversed list:\", numbers)"
   ]
  },
  {
   "cell_type": "code",
   "execution_count": 12,
   "id": "3e058d01-34fb-486f-a3f4-ebe0bb503ede",
   "metadata": {},
   "outputs": [
    {
     "name": "stdout",
     "output_type": "stream",
     "text": [
      "Tuple: (100, 200, 300)\n"
     ]
    }
   ],
   "source": [
    "11. #Write a code to create a tuple with the elements 100, 200, 300 and print it.\n",
    "\n",
    "my_tuple = (100, 200, 300)\n",
    "print(\"Tuple:\", my_tuple)"
   ]
  },
  {
   "cell_type": "code",
   "execution_count": 13,
   "id": "6508bd6b-ad4f-4ca2-a55d-84107701199e",
   "metadata": {},
   "outputs": [
    {
     "name": "stdout",
     "output_type": "stream",
     "text": [
      "Second-to-last element: blue\n"
     ]
    }
   ],
   "source": [
    "12. #Write a code to access the second-to-last element of the tuple ('red', 'green', 'blue', 'yellow').\n",
    "\n",
    "colors = ('red', 'green', 'blue', 'yellow')\n",
    "second_last = colors[-2]   # -2 gives the second-to-last element\n",
    "print(\"Second-to-last element:\", second_last)"
   ]
  },
  {
   "cell_type": "code",
   "execution_count": 14,
   "id": "872b71bd-8cfa-4fc6-bd53-fe652fb278a6",
   "metadata": {},
   "outputs": [
    {
     "name": "stdout",
     "output_type": "stream",
     "text": [
      "Minimum number in the tuple: 5\n"
     ]
    }
   ],
   "source": [
    "13. #Write a code to find the minimum number in the tuple (10, 20, 5, 15).\n",
    "\n",
    "numbers = (10, 20, 5, 15)\n",
    "min_num = min(numbers)\n",
    "print(\"Minimum number in the tuple:\", min_num)\n"
   ]
  },
  {
   "cell_type": "code",
   "execution_count": 15,
   "id": "0c4a3d13-1c78-4ae0-89b2-a9062272e7ec",
   "metadata": {},
   "outputs": [
    {
     "name": "stdout",
     "output_type": "stream",
     "text": [
      "Index of 'cat': 1\n"
     ]
    }
   ],
   "source": [
    "14. #Write a code to find the index of the element \"cat\" in the tuple ('dog', 'cat', 'rabbit').\n",
    "\n",
    "animals = ('dog', 'cat', 'rabbit')\n",
    "index_cat = animals.index(\"cat\")\n",
    "print(\"Index of 'cat':\", index_cat)\n"
   ]
  },
  {
   "cell_type": "code",
   "execution_count": 16,
   "id": "f89c8ea3-ed8f-41bd-b82c-43cc72be87da",
   "metadata": {},
   "outputs": [
    {
     "name": "stdout",
     "output_type": "stream",
     "text": [
      "Kiwi is not in the tuple.\n"
     ]
    }
   ],
   "source": [
    "15. #Write a code to create a tuple containing three different fruits and check if \"kiwi\" is in it.\n",
    "\n",
    "fruits = (\"apple\", \"banana\", \"mango\")\n",
    "\n",
    "if \"kiwi\" in fruits:\n",
    "    print(\"Kiwi is in the tuple.\")\n",
    "else:\n",
    "    print(\"Kiwi is not in the tuple.\")"
   ]
  },
  {
   "cell_type": "code",
   "execution_count": 17,
   "id": "5fa036e7-1709-4490-8fe6-2ddc645870ef",
   "metadata": {},
   "outputs": [
    {
     "name": "stdout",
     "output_type": "stream",
     "text": [
      "{'c', 'a', 'b'}\n"
     ]
    }
   ],
   "source": [
    "16. #Write a code to create a set with the elements 'a', 'b', 'c' and print it.\n",
    "\n",
    "# Create a set named 'my_set' with the elements 'a', 'b', and 'c'.\n",
    "# The elements are enclosed in curly braces {}.\n",
    "my_set = {'a', 'b', 'c'}\n",
    "\n",
    "# Print the set to the console.\n",
    "print(my_set)\n"
   ]
  },
  {
   "cell_type": "code",
   "execution_count": 18,
   "id": "a013348f-d19d-4694-b37d-369ace0d0bfe",
   "metadata": {},
   "outputs": [
    {
     "name": "stdout",
     "output_type": "stream",
     "text": [
      "Original set: {1, 2, 3, 4, 5}\n",
      "Set after clearing: set()\n"
     ]
    }
   ],
   "source": [
    "17. # Write a code to clear all elements from the set {1, 2, 3, 4, 5}.\n",
    "\n",
    "# Create a set with the elements 1, 2, 3, 4, and 5.\n",
    "my_set = {1, 2, 3, 4, 5}\n",
    "\n",
    "# Print the set before clearing it.\n",
    "print(\"Original set:\", my_set)\n",
    "\n",
    "# Clear all elements from the set using the .clear() method.\n",
    "my_set.clear()\n",
    "\n",
    "# Print the set again to show that it is now empty.\n",
    "print(\"Set after clearing:\", my_set)"
   ]
  },
  {
   "cell_type": "code",
   "execution_count": 19,
   "id": "ab6d0730-a9c6-41ee-90d1-ebd81e4191e9",
   "metadata": {},
   "outputs": [
    {
     "name": "stdout",
     "output_type": "stream",
     "text": [
      "{1, 2, 3}\n"
     ]
    }
   ],
   "source": [
    "18.# Write a code to remove the element 4 from the set {1, 2, 3, 4}.\n",
    "\n",
    "my_set = {1, 2, 3, 4}\n",
    "my_set.remove(4)\n",
    "print(my_set)"
   ]
  },
  {
   "cell_type": "code",
   "execution_count": 20,
   "id": "2727b0cd-69bb-443f-b36a-6830f7423c35",
   "metadata": {},
   "outputs": [
    {
     "name": "stdout",
     "output_type": "stream",
     "text": [
      "Set 1: {1, 2, 3}\n",
      "Set 2: {3, 4, 5}\n",
      "Union of the sets: {1, 2, 3, 4, 5}\n"
     ]
    }
   ],
   "source": [
    "19. # Write a code to find the union of two sets {1, 2, 3} and {3, 4, 5}.\n",
    "\n",
    "# Create the two sets\n",
    "set1 = {1, 2, 3}\n",
    "set2 = {3, 4, 5}\n",
    "\n",
    "# Find the union of the two sets using the | operator\n",
    "# The union is a new set containing all unique elements from both sets\n",
    "union_set = set1 | set2\n",
    "\n",
    "# Print the result\n",
    "print(\"Set 1:\", set1)\n",
    "print(\"Set 2:\", set2)\n",
    "print(\"Union of the sets:\", union_set)\n"
   ]
  },
  {
   "cell_type": "code",
   "execution_count": 21,
   "id": "08890f55-aa68-4d4f-8155-bf8ba056a9f6",
   "metadata": {},
   "outputs": [
    {
     "name": "stdout",
     "output_type": "stream",
     "text": [
      "Set 1: {1, 2, 3}\n",
      "Set 2: {2, 3, 4}\n",
      "Intersection of the sets: {2, 3}\n"
     ]
    }
   ],
   "source": [
    "20. # Write a code to find the intersection of two sets {1, 2, 3} and {2, 3, 4}.\n",
    "\n",
    "# Create the two sets\n",
    "set1 = {1, 2, 3}\n",
    "set2 = {2, 3, 4}\n",
    "\n",
    "# Find the intersection of the two sets using the & operator.\n",
    "# The intersection is a new set containing only the elements common to both sets.\n",
    "intersection_set = set1 & set2\n",
    "\n",
    "# Print the result\n",
    "print(\"Set 1:\", set1)\n",
    "print(\"Set 2:\", set2)\n",
    "print(\"Intersection of the sets:\", intersection_set)\n"
   ]
  },
  {
   "cell_type": "code",
   "execution_count": 22,
   "id": "f2853354-5032-4ea6-87a9-6debbd407b16",
   "metadata": {},
   "outputs": [
    {
     "name": "stdout",
     "output_type": "stream",
     "text": [
      "{'name': 'John Doe', 'age': 30, 'city': 'New York'}\n",
      "Name: John Doe\n",
      "Age: 30\n",
      "City: New York\n"
     ]
    }
   ],
   "source": [
    "21. #Write a code to create a dictionary with the keys \"name\", \"age\", and \"city\", and print it.\n",
    "\n",
    "# Create a dictionary with keys \"name\", \"age\", and \"city\".\n",
    "# Dictionaries store data in key-value pairs.\n",
    "person_info = {\n",
    "    \"name\": \"John Doe\",\n",
    "    \"age\": 30,\n",
    "    \"city\": \"New York\"\n",
    "}\n",
    "\n",
    "# Print the entire dictionary to the console.\n",
    "print(person_info)\n",
    "\n",
    "# You can also access individual values by their key.\n",
    "print(\"Name:\", person_info[\"name\"])\n",
    "print(\"Age:\", person_info[\"age\"])\n",
    "print(\"City:\", person_info[\"city\"])"
   ]
  },
  {
   "cell_type": "code",
   "execution_count": 23,
   "id": "86bfae45-af11-4835-a0a4-2efd123f8423",
   "metadata": {},
   "outputs": [
    {
     "name": "stdout",
     "output_type": "stream",
     "text": [
      "The name is: Alice\n"
     ]
    }
   ],
   "source": [
    "23. #Write a code to access the value associated with the key \"name\" in the dictionary {'name': 'Alice', 'age': 30}.\n",
    "\n",
    "# Create the dictionary as specified\n",
    "person_info = {'name': 'Alice', 'age': 30}\n",
    "\n",
    "# Access the value for the key \"name\"\n",
    "name = person_info[\"name\"]\n",
    "\n",
    "# Print the accessed value\n",
    "print(\"The name is:\", name)\n"
   ]
  },
  {
   "cell_type": "code",
   "execution_count": 24,
   "id": "788d4c24-72e5-4475-8b04-329bbf087393",
   "metadata": {},
   "outputs": [
    {
     "name": "stdout",
     "output_type": "stream",
     "text": [
      "Original dictionary: {'name': 'Bob', 'age': 22, 'city': 'New York'}\n",
      "Dictionary after removing 'age': {'name': 'Bob', 'city': 'New York'}\n"
     ]
    }
   ],
   "source": [
    "24. #Write a code to remove the key \"age\" from the dictionary {'name': 'Bob', 'age': 22, 'city': 'New York'}.\n",
    "\n",
    "# Create the initial dictionary\n",
    "person_info = {\n",
    "    'name': 'Bob',\n",
    "    'age': 22,\n",
    "    'city': 'New York'\n",
    "}\n",
    "\n",
    "print(\"Original dictionary:\", person_info)\n",
    "\n",
    "# Remove the key \"age\" using the `del` keyword\n",
    "del person_info['age']\n",
    "\n",
    "# Print the modified dictionary to confirm the key was removed\n",
    "print(\"Dictionary after removing 'age':\", person_info)"
   ]
  },
  {
   "cell_type": "code",
   "execution_count": 25,
   "id": "ba943f49-508c-455d-a589-b10f5681a78d",
   "metadata": {},
   "outputs": [
    {
     "name": "stdout",
     "output_type": "stream",
     "text": [
      "The key 'city' exists in the dictionary.\n"
     ]
    }
   ],
   "source": [
    "25. # Write a code to check if the key \"city\" exists in the dictionary {'name': 'Alice', 'city': 'Paris'}.\n",
    "\n",
    "# Define the dictionary\n",
    "person_info = {'name': 'Alice', 'city': 'Paris'}\n",
    "\n",
    "# Check if the key \"city\" exists in the dictionary using the 'in' operator\n",
    "if \"city\" in person_info:\n",
    "    print(\"The key 'city' exists in the dictionary.\")\n",
    "else:\n",
    "    print(\"The key 'city' does not exist in the dictionary.\")"
   ]
  },
  {
   "cell_type": "code",
   "execution_count": 26,
   "id": "b2b1df87-3505-4fe8-98cd-ff5968b9ec9d",
   "metadata": {},
   "outputs": [
    {
     "name": "stdout",
     "output_type": "stream",
     "text": [
      "My List: [1, 2, 3, 'apple', 'banana']\n",
      "My Tuple: (4, 5, 6, 'orange', 'grape')\n",
      "My Dictionary: {'name': 'Alice', 'age': 30, 'city': 'New York'}\n"
     ]
    }
   ],
   "source": [
    "26. #Write a code to create a list, a tuple, and a dictionary, and print them all.\n",
    "\n",
    "# Create a list\n",
    "my_list = [1, 2, 3, \"apple\", \"banana\"]\n",
    "\n",
    "# Create a tuple\n",
    "my_tuple = (4, 5, 6, \"orange\", \"grape\")\n",
    "\n",
    "# Create a dictionary\n",
    "my_dictionary = {\n",
    "    \"name\": \"Alice\",\n",
    "    \"age\": 30,\n",
    "    \"city\": \"New York\"\n",
    "}\n",
    "\n",
    "# Print the list\n",
    "print(\"My List:\", my_list)\n",
    "\n",
    "# Print the tuple\n",
    "print(\"My Tuple:\", my_tuple)\n",
    "\n",
    "# Print the dictionary\n",
    "print(\"My Dictionary:\", my_dictionary)"
   ]
  },
  {
   "cell_type": "code",
   "execution_count": 27,
   "id": "90585d4d-e87d-40c6-8f16-12980ef45365",
   "metadata": {},
   "outputs": [
    {
     "name": "stdout",
     "output_type": "stream",
     "text": [
      "{'name': 'Alice', 'age': 30, 'city': 'New York', 'occupation': 'Engineer'}\n"
     ]
    }
   ],
   "source": [
    "29. #Write a code to combine two dictionaries into one and print the result.\n",
    "\n",
    "# Define the first dictionary\n",
    "dict1 = {'name': 'Alice', 'age': 30}\n",
    "\n",
    "# Define the second dictionary\n",
    "dict2 = {'city': 'New York', 'occupation': 'Engineer'}\n",
    "\n",
    "# Combine the two dictionaries using dictionary unpacking\n",
    "# If there are duplicate keys, the value from the second dictionary will override the first.\n",
    "combined_dict = {**dict1, **dict2}\n",
    "\n",
    "# Print the resulting combined dictionary\n",
    "print(combined_dict)"
   ]
  },
  {
   "cell_type": "code",
   "execution_count": 28,
   "id": "50fc2c17-f452-4e38-b415-2cd835a696cf",
   "metadata": {},
   "outputs": [
    {
     "name": "stdout",
     "output_type": "stream",
     "text": [
      "{'orange', 'banana', 'apple', 'grape'}\n"
     ]
    }
   ],
   "source": [
    "30. #Write a code to convert a list of strings into a set.\n",
    "\n",
    "# Create a list of strings\n",
    "my_list = [\"apple\", \"banana\", \"orange\", \"apple\", \"grape\"]\n",
    "my_set = set(my_list)\n",
    "print(my_set)"
   ]
  },
  {
   "cell_type": "code",
   "execution_count": null,
   "id": "9a7a5bbe-2d0c-4434-8365-9c9fbecd1bf8",
   "metadata": {},
   "outputs": [],
   "source": []
  }
 ],
 "metadata": {
  "kernelspec": {
   "display_name": "Python 3 (ipykernel)",
   "language": "python",
   "name": "python3"
  },
  "language_info": {
   "codemirror_mode": {
    "name": "ipython",
    "version": 3
   },
   "file_extension": ".py",
   "mimetype": "text/x-python",
   "name": "python",
   "nbconvert_exporter": "python",
   "pygments_lexer": "ipython3",
   "version": "3.13.7"
  }
 },
 "nbformat": 4,
 "nbformat_minor": 5
}
